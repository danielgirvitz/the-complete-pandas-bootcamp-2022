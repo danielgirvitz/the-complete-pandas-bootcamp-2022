{
 "cells": [
  {
   "cell_type": "markdown",
   "id": "0acb7e8b",
   "metadata": {},
   "source": [
    "In this Section, you will learn how to:\n",
    "\n",
    "1. sort DataFrames by one and by many columns\n",
    "\n",
    "2. sort DataFrames by the Index\n",
    "\n",
    "3. rank DataFrames\n",
    "\n",
    "4. use nunique() and nlargest() / nsmallest() on DataFrames\n",
    "\n",
    "5. get summary statistics, accumulations and correlations\n",
    "\n",
    "6. use user-defined functions on DataFrames and Pandas Series\n",
    "\n",
    "7. work with a MutiIndex (Hierarchical Indexing)\n",
    "\n",
    "8. perform string operations on DataFrames"
   ]
  }
 ],
 "metadata": {
  "kernelspec": {
   "display_name": "Python 3 (ipykernel)",
   "language": "python",
   "name": "python3"
  },
  "language_info": {
   "codemirror_mode": {
    "name": "ipython",
    "version": 3
   },
   "file_extension": ".py",
   "mimetype": "text/x-python",
   "name": "python",
   "nbconvert_exporter": "python",
   "pygments_lexer": "ipython3",
   "version": "3.9.12"
  }
 },
 "nbformat": 4,
 "nbformat_minor": 5
}
