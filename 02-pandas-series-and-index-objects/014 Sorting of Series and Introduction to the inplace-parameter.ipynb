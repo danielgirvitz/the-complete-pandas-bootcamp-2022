{
 "cells": [
  {
   "cell_type": "code",
   "execution_count": 1,
   "id": "c126ed13",
   "metadata": {},
   "outputs": [],
   "source": [
    "import pandas as pd"
   ]
  },
  {
   "cell_type": "code",
   "execution_count": 2,
   "id": "a2f5bcde",
   "metadata": {},
   "outputs": [
    {
     "data": {
      "text/plain": [
       "{1: 10, 3: 25, 2: 6, 4: 36, 5: 2, 6: 0, 7: None}"
      ]
     },
     "execution_count": 2,
     "metadata": {},
     "output_type": "execute_result"
    }
   ],
   "source": [
    "dic = {1:10, 3:25, 2:6, 4:36, 5:2, 6:0, 7:None}\n",
    "dic"
   ]
  },
  {
   "cell_type": "code",
   "execution_count": 3,
   "id": "cb991783",
   "metadata": {},
   "outputs": [
    {
     "data": {
      "text/plain": [
       "1    10.0\n",
       "3    25.0\n",
       "2     6.0\n",
       "4    36.0\n",
       "5     2.0\n",
       "6     0.0\n",
       "7     NaN\n",
       "dtype: float64"
      ]
     },
     "execution_count": 3,
     "metadata": {},
     "output_type": "execute_result"
    }
   ],
   "source": [
    "sales = pd.Series(dic)\n",
    "sales"
   ]
  },
  {
   "cell_type": "code",
   "execution_count": 4,
   "id": "169a8e52",
   "metadata": {},
   "outputs": [
    {
     "data": {
      "text/plain": [
       "1    10.0\n",
       "2     6.0\n",
       "3    25.0\n",
       "4    36.0\n",
       "5     2.0\n",
       "6     0.0\n",
       "7     NaN\n",
       "dtype: float64"
      ]
     },
     "execution_count": 4,
     "metadata": {},
     "output_type": "execute_result"
    }
   ],
   "source": [
    "sales.sort_index(ascending=True)"
   ]
  },
  {
   "cell_type": "code",
   "execution_count": 5,
   "id": "cda5d6b3",
   "metadata": {},
   "outputs": [
    {
     "data": {
      "text/plain": [
       "7     NaN\n",
       "6     0.0\n",
       "5     2.0\n",
       "4    36.0\n",
       "3    25.0\n",
       "2     6.0\n",
       "1    10.0\n",
       "dtype: float64"
      ]
     },
     "execution_count": 5,
     "metadata": {},
     "output_type": "execute_result"
    }
   ],
   "source": [
    "sales.sort_index(ascending=False)"
   ]
  },
  {
   "cell_type": "code",
   "execution_count": 6,
   "id": "2b42e35d",
   "metadata": {},
   "outputs": [
    {
     "data": {
      "text/plain": [
       "1    10.0\n",
       "3    25.0\n",
       "2     6.0\n",
       "4    36.0\n",
       "5     2.0\n",
       "6     0.0\n",
       "7     NaN\n",
       "dtype: float64"
      ]
     },
     "execution_count": 6,
     "metadata": {},
     "output_type": "execute_result"
    }
   ],
   "source": [
    "sales # by default, sorting is not stored in memory"
   ]
  },
  {
   "cell_type": "code",
   "execution_count": 9,
   "id": "9e1c843e",
   "metadata": {},
   "outputs": [
    {
     "data": {
      "text/plain": [
       "1    10.0\n",
       "2     6.0\n",
       "3    25.0\n",
       "4    36.0\n",
       "5     2.0\n",
       "6     0.0\n",
       "7     NaN\n",
       "dtype: float64"
      ]
     },
     "execution_count": 9,
     "metadata": {},
     "output_type": "execute_result"
    }
   ],
   "source": [
    "sales.sort_index(ascending=True, inplace=True) # inplace=True saves index sorting\n",
    "sales"
   ]
  },
  {
   "cell_type": "code",
   "execution_count": 10,
   "id": "c8ff62b6",
   "metadata": {},
   "outputs": [
    {
     "data": {
      "text/plain": [
       "1    10.0\n",
       "2     6.0\n",
       "3    25.0\n",
       "4    36.0\n",
       "5     2.0\n",
       "6     0.0\n",
       "7     NaN\n",
       "dtype: float64"
      ]
     },
     "execution_count": 10,
     "metadata": {},
     "output_type": "execute_result"
    }
   ],
   "source": [
    "sales"
   ]
  },
  {
   "cell_type": "code",
   "execution_count": 12,
   "id": "df73ead2",
   "metadata": {},
   "outputs": [
    {
     "data": {
      "text/plain": [
       "6     0.0\n",
       "5     2.0\n",
       "2     6.0\n",
       "1    10.0\n",
       "3    25.0\n",
       "4    36.0\n",
       "7     NaN\n",
       "dtype: float64"
      ]
     },
     "execution_count": 12,
     "metadata": {},
     "output_type": "execute_result"
    }
   ],
   "source": [
    "sales.sort_values(ascending=True, inplace=True)\n",
    "sales"
   ]
  },
  {
   "cell_type": "code",
   "execution_count": 13,
   "id": "2fd0593f",
   "metadata": {
    "scrolled": false
   },
   "outputs": [
    {
     "data": {
      "text/plain": [
       "4    36.0\n",
       "3    25.0\n",
       "1    10.0\n",
       "2     6.0\n",
       "5     2.0\n",
       "6     0.0\n",
       "7     NaN\n",
       "dtype: float64"
      ]
     },
     "execution_count": 13,
     "metadata": {},
     "output_type": "execute_result"
    }
   ],
   "source": [
    "sales.sort_values(ascending=False, na_position=\"last\", inplace=True)\n",
    "sales"
   ]
  }
 ],
 "metadata": {
  "kernelspec": {
   "display_name": "Python 3 (ipykernel)",
   "language": "python",
   "name": "python3"
  },
  "language_info": {
   "codemirror_mode": {
    "name": "ipython",
    "version": 3
   },
   "file_extension": ".py",
   "mimetype": "text/x-python",
   "name": "python",
   "nbconvert_exporter": "python",
   "pygments_lexer": "ipython3",
   "version": "3.9.12"
  }
 },
 "nbformat": 4,
 "nbformat_minor": 5
}
