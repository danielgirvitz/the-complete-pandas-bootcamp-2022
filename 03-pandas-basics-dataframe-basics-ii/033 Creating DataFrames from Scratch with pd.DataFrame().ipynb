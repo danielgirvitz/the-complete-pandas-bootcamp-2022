{
 "cells": [
  {
   "cell_type": "code",
   "execution_count": 1,
   "id": "c960b850",
   "metadata": {},
   "outputs": [],
   "source": [
    "import pandas as pd"
   ]
  },
  {
   "cell_type": "markdown",
   "id": "60c0cd82",
   "metadata": {},
   "source": [
    "# Having columns in place"
   ]
  },
  {
   "cell_type": "code",
   "execution_count": 2,
   "id": "18b11408",
   "metadata": {},
   "outputs": [],
   "source": [
    "player = [\"Lionel Messi\", \"Cristiano Ronaldo\", \"Neymar Junior\", \"Kylian Mbappe\", \"Manuel Neuer\"]\n",
    "nationality = [\"Argentina\", \"Portugal\", \"Brasil\", \"France\", \"Germany\"]\n",
    "club = [\"FC Barcelona\", \"Juventus FC\", \"Paris SG\", \"Paris SG\", \"FC Bayern\" ]\n",
    "world_champion = [False, False, False, True, True]\n",
    "height = [1.70, 1.87, 1.75, 1.78, 1.93]\n",
    "goals = [45, 44, 28, 21, 0]"
   ]
  },
  {
   "cell_type": "code",
   "execution_count": 3,
   "id": "04e6fce1",
   "metadata": {},
   "outputs": [],
   "source": [
    "dic = {\"Player\":player, \"Nationality\":nationality, \"Club\":club, \n",
    "        \"World_Champion\":world_champion, \"Height\":height, \"Goals_2018\":goals\n",
    "       }"
   ]
  },
  {
   "cell_type": "code",
   "execution_count": 4,
   "id": "38dfebec",
   "metadata": {},
   "outputs": [
    {
     "data": {
      "text/html": [
       "<div>\n",
       "<style scoped>\n",
       "    .dataframe tbody tr th:only-of-type {\n",
       "        vertical-align: middle;\n",
       "    }\n",
       "\n",
       "    .dataframe tbody tr th {\n",
       "        vertical-align: top;\n",
       "    }\n",
       "\n",
       "    .dataframe thead th {\n",
       "        text-align: right;\n",
       "    }\n",
       "</style>\n",
       "<table border=\"1\" class=\"dataframe\">\n",
       "  <thead>\n",
       "    <tr style=\"text-align: right;\">\n",
       "      <th></th>\n",
       "      <th>Player</th>\n",
       "      <th>Nationality</th>\n",
       "      <th>Club</th>\n",
       "      <th>World_Champion</th>\n",
       "      <th>Height</th>\n",
       "      <th>Goals_2018</th>\n",
       "    </tr>\n",
       "  </thead>\n",
       "  <tbody>\n",
       "    <tr>\n",
       "      <th>0</th>\n",
       "      <td>Lionel Messi</td>\n",
       "      <td>Argentina</td>\n",
       "      <td>FC Barcelona</td>\n",
       "      <td>False</td>\n",
       "      <td>1.70</td>\n",
       "      <td>45</td>\n",
       "    </tr>\n",
       "    <tr>\n",
       "      <th>1</th>\n",
       "      <td>Cristiano Ronaldo</td>\n",
       "      <td>Portugal</td>\n",
       "      <td>Juventus FC</td>\n",
       "      <td>False</td>\n",
       "      <td>1.87</td>\n",
       "      <td>44</td>\n",
       "    </tr>\n",
       "    <tr>\n",
       "      <th>2</th>\n",
       "      <td>Neymar Junior</td>\n",
       "      <td>Brasil</td>\n",
       "      <td>Paris SG</td>\n",
       "      <td>False</td>\n",
       "      <td>1.75</td>\n",
       "      <td>28</td>\n",
       "    </tr>\n",
       "    <tr>\n",
       "      <th>3</th>\n",
       "      <td>Kylian Mbappe</td>\n",
       "      <td>France</td>\n",
       "      <td>Paris SG</td>\n",
       "      <td>True</td>\n",
       "      <td>1.78</td>\n",
       "      <td>21</td>\n",
       "    </tr>\n",
       "    <tr>\n",
       "      <th>4</th>\n",
       "      <td>Manuel Neuer</td>\n",
       "      <td>Germany</td>\n",
       "      <td>FC Bayern</td>\n",
       "      <td>True</td>\n",
       "      <td>1.93</td>\n",
       "      <td>0</td>\n",
       "    </tr>\n",
       "  </tbody>\n",
       "</table>\n",
       "</div>"
      ],
      "text/plain": [
       "              Player Nationality          Club  World_Champion  Height  \\\n",
       "0       Lionel Messi   Argentina  FC Barcelona           False    1.70   \n",
       "1  Cristiano Ronaldo    Portugal   Juventus FC           False    1.87   \n",
       "2      Neymar Junior      Brasil      Paris SG           False    1.75   \n",
       "3      Kylian Mbappe      France      Paris SG            True    1.78   \n",
       "4       Manuel Neuer     Germany     FC Bayern            True    1.93   \n",
       "\n",
       "   Goals_2018  \n",
       "0          45  \n",
       "1          44  \n",
       "2          28  \n",
       "3          21  \n",
       "4           0  "
      ]
     },
     "execution_count": 4,
     "metadata": {},
     "output_type": "execute_result"
    }
   ],
   "source": [
    "df = pd.DataFrame(data = dic)\n",
    "df"
   ]
  },
  {
   "cell_type": "code",
   "execution_count": 5,
   "id": "3588334a",
   "metadata": {},
   "outputs": [],
   "source": [
    "players = df.set_index(\"Player\")"
   ]
  },
  {
   "cell_type": "code",
   "execution_count": 6,
   "id": "1ad1fc8f",
   "metadata": {},
   "outputs": [
    {
     "data": {
      "text/html": [
       "<div>\n",
       "<style scoped>\n",
       "    .dataframe tbody tr th:only-of-type {\n",
       "        vertical-align: middle;\n",
       "    }\n",
       "\n",
       "    .dataframe tbody tr th {\n",
       "        vertical-align: top;\n",
       "    }\n",
       "\n",
       "    .dataframe thead th {\n",
       "        text-align: right;\n",
       "    }\n",
       "</style>\n",
       "<table border=\"1\" class=\"dataframe\">\n",
       "  <thead>\n",
       "    <tr style=\"text-align: right;\">\n",
       "      <th></th>\n",
       "      <th>Nationality</th>\n",
       "      <th>Club</th>\n",
       "      <th>World_Champion</th>\n",
       "      <th>Height</th>\n",
       "      <th>Goals_2018</th>\n",
       "    </tr>\n",
       "    <tr>\n",
       "      <th>Player</th>\n",
       "      <th></th>\n",
       "      <th></th>\n",
       "      <th></th>\n",
       "      <th></th>\n",
       "      <th></th>\n",
       "    </tr>\n",
       "  </thead>\n",
       "  <tbody>\n",
       "    <tr>\n",
       "      <th>Lionel Messi</th>\n",
       "      <td>Argentina</td>\n",
       "      <td>FC Barcelona</td>\n",
       "      <td>False</td>\n",
       "      <td>1.70</td>\n",
       "      <td>45</td>\n",
       "    </tr>\n",
       "    <tr>\n",
       "      <th>Cristiano Ronaldo</th>\n",
       "      <td>Portugal</td>\n",
       "      <td>Juventus FC</td>\n",
       "      <td>False</td>\n",
       "      <td>1.87</td>\n",
       "      <td>44</td>\n",
       "    </tr>\n",
       "    <tr>\n",
       "      <th>Neymar Junior</th>\n",
       "      <td>Brasil</td>\n",
       "      <td>Paris SG</td>\n",
       "      <td>False</td>\n",
       "      <td>1.75</td>\n",
       "      <td>28</td>\n",
       "    </tr>\n",
       "    <tr>\n",
       "      <th>Kylian Mbappe</th>\n",
       "      <td>France</td>\n",
       "      <td>Paris SG</td>\n",
       "      <td>True</td>\n",
       "      <td>1.78</td>\n",
       "      <td>21</td>\n",
       "    </tr>\n",
       "    <tr>\n",
       "      <th>Manuel Neuer</th>\n",
       "      <td>Germany</td>\n",
       "      <td>FC Bayern</td>\n",
       "      <td>True</td>\n",
       "      <td>1.93</td>\n",
       "      <td>0</td>\n",
       "    </tr>\n",
       "  </tbody>\n",
       "</table>\n",
       "</div>"
      ],
      "text/plain": [
       "                  Nationality          Club  World_Champion  Height  \\\n",
       "Player                                                                \n",
       "Lionel Messi        Argentina  FC Barcelona           False    1.70   \n",
       "Cristiano Ronaldo    Portugal   Juventus FC           False    1.87   \n",
       "Neymar Junior          Brasil      Paris SG           False    1.75   \n",
       "Kylian Mbappe          France      Paris SG            True    1.78   \n",
       "Manuel Neuer          Germany     FC Bayern            True    1.93   \n",
       "\n",
       "                   Goals_2018  \n",
       "Player                         \n",
       "Lionel Messi               45  \n",
       "Cristiano Ronaldo          44  \n",
       "Neymar Junior              28  \n",
       "Kylian Mbappe              21  \n",
       "Manuel Neuer                0  "
      ]
     },
     "execution_count": 6,
     "metadata": {},
     "output_type": "execute_result"
    }
   ],
   "source": [
    "players"
   ]
  },
  {
   "cell_type": "markdown",
   "id": "c862b37f",
   "metadata": {},
   "source": [
    "# Having rows in place"
   ]
  },
  {
   "cell_type": "markdown",
   "id": "3d1cd4b0",
   "metadata": {},
   "source": [
    "## Method 01"
   ]
  },
  {
   "cell_type": "code",
   "execution_count": 7,
   "id": "23d7dfbc",
   "metadata": {},
   "outputs": [
    {
     "data": {
      "text/plain": [
       "[('Argentina', 'FC Barcelona', False, 1.7, 45),\n",
       " ('Portugal', 'Juventus FC', False, 1.87, 44),\n",
       " ('Brasil', 'Paris SG', False, 1.75, 28),\n",
       " ('France', 'Paris SG', True, 1.78, 21),\n",
       " ('Germany', 'FC Bayern', True, 1.93, 0)]"
      ]
     },
     "execution_count": 7,
     "metadata": {},
     "output_type": "execute_result"
    }
   ],
   "source": [
    "list(zip(nationality,\n",
    "         club,\n",
    "         world_champion,\n",
    "         height,\n",
    "         goals))"
   ]
  },
  {
   "cell_type": "code",
   "execution_count": 8,
   "id": "d0be7af1",
   "metadata": {},
   "outputs": [],
   "source": [
    "zipped = list(zip(nationality,\n",
    "                  club,\n",
    "                  world_champion,\n",
    "                  height,\n",
    "                  goals))"
   ]
  },
  {
   "cell_type": "code",
   "execution_count": 9,
   "id": "e4654822",
   "metadata": {},
   "outputs": [],
   "source": [
    "messi, ronaldo, neymar, mbappe, neuer = zipped"
   ]
  },
  {
   "cell_type": "code",
   "execution_count": 10,
   "id": "ffb3e795",
   "metadata": {},
   "outputs": [
    {
     "data": {
      "text/plain": [
       "('Argentina', 'FC Barcelona', False, 1.7, 45)"
      ]
     },
     "execution_count": 10,
     "metadata": {},
     "output_type": "execute_result"
    }
   ],
   "source": [
    "messi"
   ]
  },
  {
   "cell_type": "code",
   "execution_count": 11,
   "id": "3e74bbfb",
   "metadata": {},
   "outputs": [
    {
     "data": {
      "text/plain": [
       "('Portugal', 'Juventus FC', False, 1.87, 44)"
      ]
     },
     "execution_count": 11,
     "metadata": {},
     "output_type": "execute_result"
    }
   ],
   "source": [
    "ronaldo"
   ]
  },
  {
   "cell_type": "code",
   "execution_count": 12,
   "id": "673e73f8",
   "metadata": {},
   "outputs": [],
   "source": [
    "df01 = pd.DataFrame(data = [messi, ronaldo, neymar, mbappe, neuer],\n",
    "                    index = [\"Lionel Messi\", \"Cristiano Ronaldo\", \"Neymar Junior\", \"Kylian Mbappe\", \"Manuel Neuer\"],\n",
    "                    columns = [\"Nationality\", \"Club\", \"World_Champion\", \"Height\", \"Goals_2018\"])"
   ]
  },
  {
   "cell_type": "code",
   "execution_count": 13,
   "id": "bbe7e43e",
   "metadata": {},
   "outputs": [
    {
     "data": {
      "text/html": [
       "<div>\n",
       "<style scoped>\n",
       "    .dataframe tbody tr th:only-of-type {\n",
       "        vertical-align: middle;\n",
       "    }\n",
       "\n",
       "    .dataframe tbody tr th {\n",
       "        vertical-align: top;\n",
       "    }\n",
       "\n",
       "    .dataframe thead th {\n",
       "        text-align: right;\n",
       "    }\n",
       "</style>\n",
       "<table border=\"1\" class=\"dataframe\">\n",
       "  <thead>\n",
       "    <tr style=\"text-align: right;\">\n",
       "      <th></th>\n",
       "      <th>Nationality</th>\n",
       "      <th>Club</th>\n",
       "      <th>World_Champion</th>\n",
       "      <th>Height</th>\n",
       "      <th>Goals_2018</th>\n",
       "    </tr>\n",
       "  </thead>\n",
       "  <tbody>\n",
       "    <tr>\n",
       "      <th>Lionel Messi</th>\n",
       "      <td>Argentina</td>\n",
       "      <td>FC Barcelona</td>\n",
       "      <td>False</td>\n",
       "      <td>1.70</td>\n",
       "      <td>45</td>\n",
       "    </tr>\n",
       "    <tr>\n",
       "      <th>Cristiano Ronaldo</th>\n",
       "      <td>Portugal</td>\n",
       "      <td>Juventus FC</td>\n",
       "      <td>False</td>\n",
       "      <td>1.87</td>\n",
       "      <td>44</td>\n",
       "    </tr>\n",
       "    <tr>\n",
       "      <th>Neymar Junior</th>\n",
       "      <td>Brasil</td>\n",
       "      <td>Paris SG</td>\n",
       "      <td>False</td>\n",
       "      <td>1.75</td>\n",
       "      <td>28</td>\n",
       "    </tr>\n",
       "    <tr>\n",
       "      <th>Kylian Mbappe</th>\n",
       "      <td>France</td>\n",
       "      <td>Paris SG</td>\n",
       "      <td>True</td>\n",
       "      <td>1.78</td>\n",
       "      <td>21</td>\n",
       "    </tr>\n",
       "    <tr>\n",
       "      <th>Manuel Neuer</th>\n",
       "      <td>Germany</td>\n",
       "      <td>FC Bayern</td>\n",
       "      <td>True</td>\n",
       "      <td>1.93</td>\n",
       "      <td>0</td>\n",
       "    </tr>\n",
       "  </tbody>\n",
       "</table>\n",
       "</div>"
      ],
      "text/plain": [
       "                  Nationality          Club  World_Champion  Height  \\\n",
       "Lionel Messi        Argentina  FC Barcelona           False    1.70   \n",
       "Cristiano Ronaldo    Portugal   Juventus FC           False    1.87   \n",
       "Neymar Junior          Brasil      Paris SG           False    1.75   \n",
       "Kylian Mbappe          France      Paris SG            True    1.78   \n",
       "Manuel Neuer          Germany     FC Bayern            True    1.93   \n",
       "\n",
       "                   Goals_2018  \n",
       "Lionel Messi               45  \n",
       "Cristiano Ronaldo          44  \n",
       "Neymar Junior              28  \n",
       "Kylian Mbappe              21  \n",
       "Manuel Neuer                0  "
      ]
     },
     "execution_count": 13,
     "metadata": {},
     "output_type": "execute_result"
    }
   ],
   "source": [
    "df01"
   ]
  },
  {
   "cell_type": "markdown",
   "id": "0f067f18",
   "metadata": {},
   "source": [
    "### Method 02"
   ]
  },
  {
   "cell_type": "code",
   "execution_count": 14,
   "id": "af6c387d",
   "metadata": {},
   "outputs": [],
   "source": [
    "df02 = pd.Series(index = player,\n",
    "                 data = nationality,\n",
    "                 name = \"Nationality\").to_frame()"
   ]
  },
  {
   "cell_type": "code",
   "execution_count": 15,
   "id": "6b80a16b",
   "metadata": {},
   "outputs": [
    {
     "data": {
      "text/html": [
       "<div>\n",
       "<style scoped>\n",
       "    .dataframe tbody tr th:only-of-type {\n",
       "        vertical-align: middle;\n",
       "    }\n",
       "\n",
       "    .dataframe tbody tr th {\n",
       "        vertical-align: top;\n",
       "    }\n",
       "\n",
       "    .dataframe thead th {\n",
       "        text-align: right;\n",
       "    }\n",
       "</style>\n",
       "<table border=\"1\" class=\"dataframe\">\n",
       "  <thead>\n",
       "    <tr style=\"text-align: right;\">\n",
       "      <th></th>\n",
       "      <th>Nationality</th>\n",
       "    </tr>\n",
       "  </thead>\n",
       "  <tbody>\n",
       "    <tr>\n",
       "      <th>Lionel Messi</th>\n",
       "      <td>Argentina</td>\n",
       "    </tr>\n",
       "    <tr>\n",
       "      <th>Cristiano Ronaldo</th>\n",
       "      <td>Portugal</td>\n",
       "    </tr>\n",
       "    <tr>\n",
       "      <th>Neymar Junior</th>\n",
       "      <td>Brasil</td>\n",
       "    </tr>\n",
       "    <tr>\n",
       "      <th>Kylian Mbappe</th>\n",
       "      <td>France</td>\n",
       "    </tr>\n",
       "    <tr>\n",
       "      <th>Manuel Neuer</th>\n",
       "      <td>Germany</td>\n",
       "    </tr>\n",
       "  </tbody>\n",
       "</table>\n",
       "</div>"
      ],
      "text/plain": [
       "                  Nationality\n",
       "Lionel Messi        Argentina\n",
       "Cristiano Ronaldo    Portugal\n",
       "Neymar Junior          Brasil\n",
       "Kylian Mbappe          France\n",
       "Manuel Neuer          Germany"
      ]
     },
     "execution_count": 15,
     "metadata": {},
     "output_type": "execute_result"
    }
   ],
   "source": [
    "df02"
   ]
  },
  {
   "cell_type": "code",
   "execution_count": 17,
   "id": "0598b268",
   "metadata": {},
   "outputs": [],
   "source": [
    "df02[\"Club\"] = club"
   ]
  },
  {
   "cell_type": "code",
   "execution_count": 18,
   "id": "d0cef99f",
   "metadata": {},
   "outputs": [
    {
     "data": {
      "text/html": [
       "<div>\n",
       "<style scoped>\n",
       "    .dataframe tbody tr th:only-of-type {\n",
       "        vertical-align: middle;\n",
       "    }\n",
       "\n",
       "    .dataframe tbody tr th {\n",
       "        vertical-align: top;\n",
       "    }\n",
       "\n",
       "    .dataframe thead th {\n",
       "        text-align: right;\n",
       "    }\n",
       "</style>\n",
       "<table border=\"1\" class=\"dataframe\">\n",
       "  <thead>\n",
       "    <tr style=\"text-align: right;\">\n",
       "      <th></th>\n",
       "      <th>Nationality</th>\n",
       "      <th>Club</th>\n",
       "    </tr>\n",
       "  </thead>\n",
       "  <tbody>\n",
       "    <tr>\n",
       "      <th>Lionel Messi</th>\n",
       "      <td>Argentina</td>\n",
       "      <td>FC Barcelona</td>\n",
       "    </tr>\n",
       "    <tr>\n",
       "      <th>Cristiano Ronaldo</th>\n",
       "      <td>Portugal</td>\n",
       "      <td>Juventus FC</td>\n",
       "    </tr>\n",
       "    <tr>\n",
       "      <th>Neymar Junior</th>\n",
       "      <td>Brasil</td>\n",
       "      <td>Paris SG</td>\n",
       "    </tr>\n",
       "    <tr>\n",
       "      <th>Kylian Mbappe</th>\n",
       "      <td>France</td>\n",
       "      <td>Paris SG</td>\n",
       "    </tr>\n",
       "    <tr>\n",
       "      <th>Manuel Neuer</th>\n",
       "      <td>Germany</td>\n",
       "      <td>FC Bayern</td>\n",
       "    </tr>\n",
       "  </tbody>\n",
       "</table>\n",
       "</div>"
      ],
      "text/plain": [
       "                  Nationality          Club\n",
       "Lionel Messi        Argentina  FC Barcelona\n",
       "Cristiano Ronaldo    Portugal   Juventus FC\n",
       "Neymar Junior          Brasil      Paris SG\n",
       "Kylian Mbappe          France      Paris SG\n",
       "Manuel Neuer          Germany     FC Bayern"
      ]
     },
     "execution_count": 18,
     "metadata": {},
     "output_type": "execute_result"
    }
   ],
   "source": [
    "df02"
   ]
  }
 ],
 "metadata": {
  "kernelspec": {
   "display_name": "Python 3 (ipykernel)",
   "language": "python",
   "name": "python3"
  },
  "language_info": {
   "codemirror_mode": {
    "name": "ipython",
    "version": 3
   },
   "file_extension": ".py",
   "mimetype": "text/x-python",
   "name": "python",
   "nbconvert_exporter": "python",
   "pygments_lexer": "ipython3",
   "version": "3.9.12"
  }
 },
 "nbformat": 4,
 "nbformat_minor": 5
}
