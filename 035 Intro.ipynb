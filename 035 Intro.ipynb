{
 "cells": [
  {
   "cell_type": "markdown",
   "id": "30d441be",
   "metadata": {},
   "source": [
    "**Welcome to the Section on manipulating elements in a DataFrame or in a slice of a DataFrame.**\n",
    "\n",
    "If you want to **avoid the most commonly made mistakes** in Pandas, this is probably the most important Section of the course!\n",
    "\n",
    "\n",
    "\n",
    "There are two types of mistakes that even experienced Pandas coders are faced with:\n",
    "\n",
    "1. **Intention:** Manipulating elements in a DataFrame. **But:** The code only manipulates these elements in a slice/subset. The original DataFrame remains unchanged.\n",
    "\n",
    "2. **Intention:** Manipulating elements in a slice/copy of a DataFrame. **But:** The code also manipulates these elements in the original DataFrame.\n",
    "\n",
    "Both types are dangerous and in some cases very hard to detect. In this Section, you will learn how Pandas works under the hood. And you will learn some simple rules to avoid these pitfalls.\n",
    "\n",
    "\n",
    "\n",
    "**Have Fun!**"
   ]
  }
 ],
 "metadata": {
  "kernelspec": {
   "display_name": "Python 3 (ipykernel)",
   "language": "python",
   "name": "python3"
  },
  "language_info": {
   "codemirror_mode": {
    "name": "ipython",
    "version": 3
   },
   "file_extension": ".py",
   "mimetype": "text/x-python",
   "name": "python",
   "nbconvert_exporter": "python",
   "pygments_lexer": "ipython3",
   "version": "3.9.12"
  }
 },
 "nbformat": 4,
 "nbformat_minor": 5
}
